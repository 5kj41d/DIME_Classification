{
 "cells": [
  {
   "cell_type": "code",
   "execution_count": 8,
   "id": "2ddfa3d5-4ab2-469e-b1dd-a1b89456403b",
   "metadata": {},
   "outputs": [],
   "source": [
    "import torch \n",
    "import torch.nn as nn \n",
    "import numpy as np \n",
    "from sklearn.model_selection import train_test_split\n",
    "from sklearn.metrics import accuracy_score\n",
    "from torchvision import datasets, transforms\n",
    "from torch.utils.data import DataLoader\n",
    "from torchvision.utils import make_grid\n",
    "import matplotlib.pyplot as plt\n",
    "import torch.nn.functional as F\n",
    "from tqdm import tqdm\n",
    "import os \n",
    "from torchinfo import summary\n",
    "from torchvision.io import read_image\n",
    "from torch.utils.data import random_split\n",
    "import time "
   ]
  },
  {
   "cell_type": "code",
   "execution_count": 7,
   "id": "7ccd4629-ca16-429d-abf9-e7391020fbac",
   "metadata": {},
   "outputs": [],
   "source": [
    "path_to_data = \"/run/media/magnusjsc/T7/Classification-and-3D-reconstruction-of-archaeological-artifacts_DATA/DIME images\"\n",
    "\n",
    "def load_data_from_directory(directory_path, label, limit = 10000):\n",
    "    data = []\n",
    "    labels = []\n",
    "    count = 0 \n",
    "\n",
    "    for filename in os.listdir(directory_path):\n",
    "        if filename.endswith(\".jpg\"):\n",
    "            image_path = os.path.join(directory_path, filename)\n",
    "            image = read_image(image_path)\n",
    "\n",
    "            # Check if image is RGB\n",
    "            if image.shape[0] == 3: \n",
    "                data.append(image)\n",
    "                labels.append(label)\n",
    "                count += 1 \n",
    "\n",
    "            if count >= limit: \n",
    "                break; \n",
    "\n",
    "    return data, labels # Tuple \n",
    "\n",
    "# Load the data \n",
    "data, labels = load_data_from_directory(\n",
    "    path_to_data,\n",
    "    label = 0, # CHANGE\n",
    "    limit = 25 \n",
    ")"
   ]
  },
  {
   "cell_type": "code",
   "execution_count": 11,
   "id": "42ea41f3-82f7-420b-895c-616371aaae56",
   "metadata": {},
   "outputs": [
    {
     "name": "stdout",
     "output_type": "stream",
     "text": [
      "Length of training set: 18, validation set: 4, testing set: 3\n"
     ]
    }
   ],
   "source": [
    "imgTrans = transforms.Compose(\n",
    "    [\n",
    "        # Add more if needed\n",
    "        transforms.ToPILImage(),\n",
    "        transforms.ToTensor()\n",
    "    ]\n",
    ")\n",
    "\n",
    "training = 0.7\n",
    "validation = 0.15\n",
    "testing = 0.15 \n",
    "\n",
    "# TODO: MISSING LABELS\n",
    "train_set, val_set, test_set = random_split(data, [training, validation, testing]) # Partition the dataset\n",
    "\n",
    "batch_size = 50\n",
    "\n",
    "train_loader = DataLoader(train_set, batch_size = batch_size, shuffle = True)\n",
    "val_loader = DataLoader(val_set, batch_size = batch_size, shuffle = False)\n",
    "test_loader = DataLoader(test_set, batch_size = batch_size, shuffle = False) \n",
    "\n",
    "print(f'Length of training set: {len(train_set)}, validation set: {len(val_set)}, testing set: {len(test_set)}')"
   ]
  },
  {
   "cell_type": "code",
   "execution_count": null,
   "id": "05fa9650-fe1a-4fcb-b957-c300911673cf",
   "metadata": {},
   "outputs": [],
   "source": [
    "# Classifier \n",
    "\n",
    "# TODO !!! "
   ]
  },
  {
   "cell_type": "code",
   "execution_count": null,
   "id": "a5b42c7d-76c8-4977-be77-d8929f7dd844",
   "metadata": {},
   "outputs": [],
   "source": [
    "# Training, validation and testing loop \n",
    "\n",
    "# TODO !!! "
   ]
  },
  {
   "cell_type": "code",
   "execution_count": null,
   "id": "9d12418b-a805-4406-8ce8-798522203903",
   "metadata": {},
   "outputs": [],
   "source": [
    "# Random Search for hyperparameter search\n",
    "\n",
    "# TODO !!! "
   ]
  }
 ],
 "metadata": {
  "kernelspec": {
   "display_name": "Python 3 (ipykernel)",
   "language": "python",
   "name": "python3"
  },
  "language_info": {
   "codemirror_mode": {
    "name": "ipython",
    "version": 3
   },
   "file_extension": ".py",
   "mimetype": "text/x-python",
   "name": "python",
   "nbconvert_exporter": "python",
   "pygments_lexer": "ipython3",
   "version": "3.11.6"
  }
 },
 "nbformat": 4,
 "nbformat_minor": 5
}
