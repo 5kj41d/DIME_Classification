{
 "cells": [
  {
   "cell_type": "code",
   "execution_count": 19,
   "id": "2ddfa3d5-4ab2-469e-b1dd-a1b89456403b",
   "metadata": {},
   "outputs": [],
   "source": [
    "import torch \n",
    "import torch.nn as nn \n",
    "import numpy as np \n",
    "from sklearn.model_selection import train_test_split\n",
    "from sklearn.metrics import accuracy_score\n",
    "from torchvision import datasets, transforms\n",
    "from torch.utils.data import DataLoader\n",
    "from torchvision.utils import make_grid\n",
    "import matplotlib.pyplot as plt\n",
    "import torch.nn.functional as F\n",
    "from tqdm import tqdm\n",
    "import os \n",
    "from torchinfo import summary\n",
    "from torchvision.io import read_image\n",
    "from torch.utils.data import random_split\n",
    "import time \n",
    "import random # Random Search \n",
    "from sklearn.metrics import accuracy_score"
   ]
  },
  {
   "cell_type": "code",
   "execution_count": 7,
   "id": "7ccd4629-ca16-429d-abf9-e7391020fbac",
   "metadata": {},
   "outputs": [],
   "source": [
    "path_to_data = \"/run/media/magnusjsc/T7/Classification-and-3D-reconstruction-of-archaeological-artifacts_DATA/DIME images\"\n",
    "\n",
    "def load_data_from_directory(directory_path, label, limit = 10000):\n",
    "    data = []\n",
    "    labels = []\n",
    "    count = 0 \n",
    "\n",
    "    for filename in os.listdir(directory_path):\n",
    "        if filename.endswith(\".jpg\"):\n",
    "            image_path = os.path.join(directory_path, filename)\n",
    "            image = read_image(image_path)\n",
    "\n",
    "            # Check if image is RGB\n",
    "            if image.shape[0] == 3: \n",
    "                data.append(image)\n",
    "                labels.append(label)\n",
    "                count += 1 \n",
    "\n",
    "            if count >= limit: \n",
    "                break; \n",
    "\n",
    "    return data, labels # Tuple \n",
    "\n",
    "# Load the data \n",
    "data, labels = load_data_from_directory(\n",
    "    path_to_data,\n",
    "    label = 0, # CHANGE\n",
    "    limit = 25 \n",
    ")"
   ]
  },
  {
   "cell_type": "code",
   "execution_count": 23,
   "id": "42ea41f3-82f7-420b-895c-616371aaae56",
   "metadata": {},
   "outputs": [
    {
     "name": "stdout",
     "output_type": "stream",
     "text": [
      "Length of training set: 18, validation set: 4, testing set: 3\n"
     ]
    }
   ],
   "source": [
    "imgTrans = transforms.Compose(\n",
    "    [\n",
    "        # Add more if needed\n",
    "        transforms.ToPILImage(),\n",
    "        transforms.ToTensor()\n",
    "        # TODO: ADD RESIZE!\n",
    "    ]\n",
    ")\n",
    "\n",
    "training = 0.7\n",
    "validation = 0.15\n",
    "testing = 0.15 \n",
    "\n",
    "# TODO: MISSING LABELS\n",
    "train_set, val_set, test_set = random_split(data, [training, validation, testing]) # Partition the dataset\n",
    "\n",
    "batch_size = 50\n",
    "\n",
    "train_loader = DataLoader(train_set, batch_size = batch_size, shuffle = True)\n",
    "val_loader = DataLoader(val_set, batch_size = batch_size, shuffle = False)\n",
    "test_loader = DataLoader(test_set, batch_size = batch_size, shuffle = False) \n",
    "\n",
    "print(f'Length of training set: {len(train_set)}, validation set: {len(val_set)}, testing set: {len(test_set)}')\n",
    "\n",
    "n_channels = 3\n",
    "n_classes = 1 # TODO: Calculate number of distinct classes"
   ]
  },
  {
   "cell_type": "code",
   "execution_count": 27,
   "id": "05fa9650-fe1a-4fcb-b957-c300911673cf",
   "metadata": {},
   "outputs": [],
   "source": [
    "# Classifier  \n",
    "class CNN(nn.Module):\n",
    "    def __init__(\n",
    "        self, \n",
    "        num_layers: int, \n",
    "        init_layer_out: int, \n",
    "        init_kernel_size: int,\n",
    "        init_stride: int \n",
    "    ):\n",
    "        super(CNN, self).__init__()\n",
    "\n",
    "        self.num_layers = num_layers\n",
    "        self.layers = nn.ModuleList() # Additional layers \n",
    "        self.init_layer = nn.Conv2d(\n",
    "            in_channels = n_channels,\n",
    "            out_channels = init_layer_out,\n",
    "            bias = True,\n",
    "            kernel_size = init_kernel_size,\n",
    "            stride = init_stride\n",
    "        )\n",
    "        self.init_act = nn.ReLU() \n",
    "        self.init_max_pool = nn.MaxPool2d() \n",
    "\n",
    "        for i in range(num_layers):\n",
    "            i = 0 \n",
    "            # TODO: Define layers \n",
    "\n",
    "        # TODO: calculate the input size to the fully connected layer\n",
    "\n",
    "    def forward(self, x):\n",
    "        x = self.init_layer(x)\n",
    "        x = self.init_act(x)\n",
    "        x = self.init_max_pool(x)\n",
    "        for layer in self.layers:\n",
    "            x = layer(x)\n",
    "            # TODO: Finish the steps!\n",
    "        return x "
   ]
  },
  {
   "cell_type": "code",
   "execution_count": null,
   "id": "a5b42c7d-76c8-4977-be77-d8929f7dd844",
   "metadata": {},
   "outputs": [],
   "source": [
    "# Training, validation and testing loop \n",
    "\n",
    "# TODO !!! "
   ]
  },
  {
   "cell_type": "code",
   "execution_count": 22,
   "id": "9d12418b-a805-4406-8ce8-798522203903",
   "metadata": {},
   "outputs": [],
   "source": [
    "# Random Search for hyperparameter search\n",
    "hyperparams = {\n",
    "    'learning_rate': [0.001, 0.01, 0.1],\n",
    "    'batch_size': [16, 32, 64],\n",
    "    'num_epochs': [30, 90, 120],\n",
    "    'num_layers': [2, 3, 4, 5],\n",
    "    'layer_out': [32, 64, 128],\n",
    "    'kernel_size': [0, 2, 4],\n",
    "    # TODO: Add more! \n",
    "}\n",
    "\n",
    "trails = 10 \n",
    "\n",
    "best_accuracy = 0\n",
    "best_hyperparams = None\n",
    "\n",
    "# TODO: Finish random search function"
   ]
  },
  {
   "cell_type": "code",
   "execution_count": null,
   "id": "85a356db-d100-43c6-b13f-f5803b685b6f",
   "metadata": {},
   "outputs": [],
   "source": []
  }
 ],
 "metadata": {
  "kernelspec": {
   "display_name": "Python 3 (ipykernel)",
   "language": "python",
   "name": "python3"
  },
  "language_info": {
   "codemirror_mode": {
    "name": "ipython",
    "version": 3
   },
   "file_extension": ".py",
   "mimetype": "text/x-python",
   "name": "python",
   "nbconvert_exporter": "python",
   "pygments_lexer": "ipython3",
   "version": "3.11.6"
  }
 },
 "nbformat": 4,
 "nbformat_minor": 5
}
