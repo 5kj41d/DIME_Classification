{
 "cells": [
  {
   "cell_type": "code",
   "execution_count": 1,
   "id": "955a6890-397b-4ca4-b9cf-9b2685f8829d",
   "metadata": {},
   "outputs": [],
   "source": [
    "# Sanitize the dataset based on features\n",
    "import torch \n",
    "import torch.nn as nn \n",
    "import numpy as np \n",
    "from sklearn.model_selection import train_test_split\n",
    "from sklearn.metrics import accuracy_score\n",
    "from torchvision import datasets, transforms\n",
    "from torch.utils.data import DataLoader\n",
    "from torchvision.utils import make_grid\n",
    "import matplotlib.pyplot as plt\n",
    "import torch.nn.functional as F\n",
    "from tqdm import tqdm\n",
    "import os \n",
    "from torchinfo import summary\n",
    "from torchvision.io import read_image\n",
    "from torch.utils.data import random_split\n",
    "import time \n",
    "import random # Random Search \n",
    "from sklearn.metrics import accuracy_score\n",
    "from torch.optim import Adam"
   ]
  },
  {
   "cell_type": "code",
   "execution_count": null,
   "id": "2c27b352-855d-44fd-8d65-2755e0ea4707",
   "metadata": {},
   "outputs": [],
   "source": []
  }
 ],
 "metadata": {
  "kernelspec": {
   "display_name": "Python 3 (ipykernel)",
   "language": "python",
   "name": "python3"
  },
  "language_info": {
   "codemirror_mode": {
    "name": "ipython",
    "version": 3
   },
   "file_extension": ".py",
   "mimetype": "text/x-python",
   "name": "python",
   "nbconvert_exporter": "python",
   "pygments_lexer": "ipython3",
   "version": "3.11.6"
  }
 },
 "nbformat": 4,
 "nbformat_minor": 5
}
